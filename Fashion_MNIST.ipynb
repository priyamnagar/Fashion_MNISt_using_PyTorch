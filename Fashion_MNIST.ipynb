{
 "cells": [
  {
   "cell_type": "markdown",
   "metadata": {},
   "source": [
    "# Import libraries"
   ]
  },
  {
   "cell_type": "code",
   "execution_count": 114,
   "metadata": {},
   "outputs": [],
   "source": [
    "from torchvision import datasets, transforms\n",
    "from torch import nn,optim,utils,exp,mean,FloatTensor,no_grad\n",
    "import torch.nn.functional as F\n",
    "import matplotlib.pyplot as plt"
   ]
  },
  {
   "cell_type": "markdown",
   "metadata": {},
   "source": [
    "# Gathering the data"
   ]
  },
  {
   "cell_type": "code",
   "execution_count": 106,
   "metadata": {},
   "outputs": [],
   "source": [
    "traindata=datasets.FashionMNIST('dataset/',download=True,train=True,transform=transforms.ToTensor())\n",
    "testdata=datasets.FashionMNIST('dataset/',download=True,train=False,transform=transforms.ToTensor())"
   ]
  },
  {
   "cell_type": "markdown",
   "metadata": {},
   "source": [
    "# Creating a loader to fetch 64 images at a time"
   ]
  },
  {
   "cell_type": "code",
   "execution_count": 107,
   "metadata": {},
   "outputs": [],
   "source": [
    "trainloader=utils.data.DataLoader(traindata,batch_size=64,shuffle=True)\n",
    "testloader=utils.data.DataLoader(testdata,batch_size=64,shuffle=True)"
   ]
  },
  {
   "cell_type": "markdown",
   "metadata": {},
   "source": [
    "# Plot"
   ]
  },
  {
   "cell_type": "code",
   "execution_count": 108,
   "metadata": {},
   "outputs": [
    {
     "data": {
      "text/plain": [
       "<matplotlib.image.AxesImage at 0x7fccf27f7630>"
      ]
     },
     "execution_count": 108,
     "metadata": {},
     "output_type": "execute_result"
    },
    {
     "data": {
      "image/png": "[encoded data removed]",
      "text/plain": [
       "<Figure size 432x288 with 1 Axes>"
      ]
     },
     "metadata": {
      "needs_background": "light"
     },
     "output_type": "display_data"
    }
   ],
   "source": [
    "images,labels=next(iter(trainloader))\n",
    "plt.imshow(images[61].numpy().squeeze())"
   ]
  },
  {
   "cell_type": "markdown",
   "metadata": {},
   "source": [
    "# Forward Propagation object"
   ]
  },
  {
   "cell_type": "markdown",
   "metadata": {},
   "source": [
    "#### hidden layer 1 : 256 neurons        activation : ReLU\n",
    "#### hidden layer 2 : 128 neurons        activation : ReLU\n",
    "#### hidden layer 3 : 64 neurons        activation : ReLU\n",
    "#### output layer : 10 neurons                activation : Log Softmax\n",
    "#### dropout probability : 0.2"
   ]
  },
  {
   "cell_type": "code",
   "execution_count": 120,
   "metadata": {},
   "outputs": [],
   "source": [
    "class Classifier(nn.Module):\n",
    "    def __init__(self):\n",
    "        super().__init__()\n",
    "        \n",
    "        self.hidden1=nn.Linear(784,256)\n",
    "        self.hidden2=nn.Linear(256,128)\n",
    "        self.hidden3=nn.Linear(128,64)\n",
    "        self.output=nn.Linear(64,10)\n",
    "        \n",
    "        self.dropout=nn.Dropout(p=0.2)\n",
    "    \n",
    "    def forward(self,x):\n",
    "        x=x.view(x.shape[0],-1)\n",
    "        \n",
    "        x=self.dropout(F.relu(self.hidden1(x)))\n",
    "        x=self.dropout(F.relu(self.hidden2(x)))\n",
    "        x=self.dropout(F.relu(self.hidden3(x)))\n",
    "        x=F.log_softmax(self.output(x),dim=1)\n",
    "        \n",
    "        return x\n",
    "model=Classifier()"
   ]
  },
  {
   "cell_type": "markdown",
   "metadata": {},
   "source": [
    "# Backward Propagation objects"
   ]
  },
  {
   "cell_type": "markdown",
   "metadata": {},
   "source": [
    "#### Loss function                :  Negative Log Likelihood Loss\n",
    "#### Optimization algorithm : Adam optimizer"
   ]
  },
  {
   "cell_type": "code",
   "execution_count": 126,
   "metadata": {},
   "outputs": [],
   "source": [
    "criterion=nn.NLLLoss()\n",
    "optimizer=optim.Adam(model.parameters(),lr=0.003)"
   ]
  },
  {
   "cell_type": "markdown",
   "metadata": {},
   "source": [
    "# Running the model"
   ]
  },
  {
   "cell_type": "code",
   "execution_count": 131,
   "metadata": {},
   "outputs": [
    {
     "name": "stdout",
     "output_type": "stream",
     "text": [
      "Epoch: 1/20 Train loss: 0.320 Test loss: 0.375 Test Accuracy: 87.689%\n",
      "Epoch: 2/20 Train loss: 0.320 Test loss: 0.386 Test Accuracy: 87.500%\n",
      "Epoch: 3/20 Train loss: 0.319 Test loss: 0.373 Test Accuracy: 87.789%\n",
      "Epoch: 4/20 Train loss: 0.315 Test loss: 0.385 Test Accuracy: 87.669%\n",
      "Epoch: 5/20 Train loss: 0.322 Test loss: 0.401 Test Accuracy: 87.500%\n",
      "Epoch: 6/20 Train loss: 0.320 Test loss: 0.371 Test Accuracy: 87.689%\n",
      "Epoch: 7/20 Train loss: 0.311 Test loss: 0.373 Test Accuracy: 88.137%\n",
      "Epoch: 8/20 Train loss: 0.314 Test loss: 0.371 Test Accuracy: 87.799%\n",
      "Epoch: 9/20 Train loss: 0.320 Test loss: 0.383 Test Accuracy: 87.550%\n",
      "Epoch: 10/20 Train loss: 0.315 Test loss: 0.408 Test Accuracy: 86.933%\n",
      "Epoch: 11/20 Train loss: 0.307 Test loss: 0.380 Test Accuracy: 88.008%\n",
      "Epoch: 12/20 Train loss: 0.312 Test loss: 0.378 Test Accuracy: 87.341%\n",
      "Epoch: 13/20 Train loss: 0.306 Test loss: 0.398 Test Accuracy: 87.520%\n",
      "Epoch: 14/20 Train loss: 0.307 Test loss: 0.387 Test Accuracy: 87.749%\n",
      "Epoch: 15/20 Train loss: 0.304 Test loss: 0.382 Test Accuracy: 87.391%\n",
      "Epoch: 16/20 Train loss: 0.307 Test loss: 0.376 Test Accuracy: 87.520%\n",
      "Epoch: 17/20 Train loss: 0.302 Test loss: 0.394 Test Accuracy: 87.729%\n",
      "Epoch: 18/20 Train loss: 0.305 Test loss: 0.395 Test Accuracy: 87.440%\n",
      "Epoch: 19/20 Train loss: 0.307 Test loss: 0.389 Test Accuracy: 87.570%\n",
      "Epoch: 20/20 Train loss: 0.298 Test loss: 0.372 Test Accuracy: 87.809%\n"
     ]
    }
   ],
   "source": [
    "epoch=20\n",
    "train_losses=[]\n",
    "test_losses=[]\n",
    "for e in range(epoch):\n",
    "    running_loss=0\n",
    "    for images,labels in trainloader:        \n",
    "        optimizer.zero_grad()\n",
    "        \n",
    "        logits=model.forward(images)\n",
    "        \n",
    "        loss=criterion(logits,labels)\n",
    "        loss.backward()\n",
    "        \n",
    "        optimizer.step()\n",
    "        \n",
    "        running_loss+=loss.item()\n",
    "    else:\n",
    "        test_loss=0\n",
    "        accuracy=0\n",
    "        with no_grad():\n",
    "            model.eval()\n",
    "            for images,labels in testloader:\n",
    "                test_logits=model(images)\n",
    "                test_loss+=criterion(test_logits,labels)\n",
    "                \n",
    "                ps=exp(test_loss)\n",
    "                \n",
    "                top_p,top_class=test_logits.topk(1,dim=1)\n",
    "                equals=top_class==labels.view(top_class.shape)\n",
    "                accuracy+=mean(equals.type(FloatTensor))\n",
    "        model.train()\n",
    "        train_losses.append(running_loss/len(trainloader))\n",
    "        test_losses.append(running_loss/len(testloader))\n",
    "        print('Epoch: {}/{}'.format(e+1,epoch),\n",
    "             'Train loss: {:.3f}'.format(running_loss/len(trainloader)),\n",
    "             'Test loss: {:.3f}'.format(test_loss/len(testloader)),\n",
    "             'Test Accuracy: {:.3f}%'.format((accuracy/len(testloader))*100))"
   ]
  }
 ],
 "metadata": {
  "kernelspec": {
   "display_name": "Python 3",
   "language": "python",
   "name": "python3"
  },
  "language_info": {
   "codemirror_mode": {
    "name": "ipython",
    "version": 3
   },
   "file_extension": ".py",
   "mimetype": "text/x-python",
   "name": "python",
   "nbconvert_exporter": "python",
   "pygments_lexer": "ipython3",
   "version": "3.6.7"
  }
 },
 "nbformat": 4,
 "nbformat_minor": 2
}
