{
 "cells": [
  {
   "cell_type": "markdown",
   "metadata": {},
   "source": [
    "# Import libraries"
   ]
  },
  {
   "cell_type": "code",
   "execution_count": null,
   "metadata": {},
   "outputs": [],
   "source": [
    "from torchvision import datasets, transforms\n",
    "from torch import nn,optim,utils,exp,mean,FloatTensor,no_grad\n",
    "import matplotlib.pyplot as plt"
   ]
  },
  {
   "cell_type": "markdown",
   "metadata": {},
   "source": [
    "# Gathering the data"
   ]
  },
  {
   "cell_type": "code",
   "execution_count": 65,
   "metadata": {},
   "outputs": [],
   "source": [
    "traindata=datasets.FashionMNIST('dataset/',download=True,train=True,transform=transforms.ToTensor())\n",
    "testdata=datasets.FashionMNIST('dataset/',download=True,train=False,transform=transforms.ToTensor())"
   ]
  },
  {
   "cell_type": "markdown",
   "metadata": {},
   "source": [
    "# Creating a loader to fetch 64 images at a time"
   ]
  },
  {
   "cell_type": "code",
   "execution_count": 66,
   "metadata": {},
   "outputs": [],
   "source": [
    "trainloader=utils.data.DataLoader(traindata,batch_size=64,shuffle=True)\n",
    "testloader=utils.data.DataLoader(testdata,batch_size=64,shuffle=True)"
   ]
  },
  {
   "cell_type": "markdown",
   "metadata": {},
   "source": [
    "# Plot"
   ]
  },
  {
   "cell_type": "code",
   "execution_count": 68,
   "metadata": {},
   "outputs": [
    {
     "data": {
      "text/plain": [
       "<matplotlib.image.AxesImage at 0x7fccf2779198>"
      ]
     },
     "execution_count": 68,
     "metadata": {},
     "output_type": "execute_result"
    },
    {
     "data": {
      "image/png": "[encoded data removed]",
      "text/plain": [
       "<Figure size 432x288 with 1 Axes>"
      ]
     },
     "metadata": {
      "needs_background": "light"
     },
     "output_type": "display_data"
    }
   ],
   "source": [
    "plt.imshow(images[61].numpy().squeeze())"
   ]
  },
  {
   "cell_type": "markdown",
   "metadata": {},
   "source": [
    "# Forward Propagation object"
   ]
  },
  {
   "cell_type": "markdown",
   "metadata": {},
   "source": [
    "#### hidden layer 1 : 256 neurons        activation : ReLU\n",
    "#### hidden layer 2 : 256 neurons        activation : ReLU\n",
    "#### input layer : 10 neurons                activation : Log Softmax"
   ]
  },
  {
   "cell_type": "code",
   "execution_count": 69,
   "metadata": {},
   "outputs": [],
   "source": [
    "model=nn.Sequential(nn.Linear(784,256),\n",
    "                   nn.ReLU(),\n",
    "                   nn.Linear(256,256),\n",
    "                   nn.ReLU(),\n",
    "                   nn.Linear(256,10),\n",
    "                   nn.LogSoftmax(dim=1))"
   ]
  },
  {
   "cell_type": "markdown",
   "metadata": {},
   "source": [
    "# Backward Propagation objects"
   ]
  },
  {
   "cell_type": "markdown",
   "metadata": {},
   "source": [
    "#### Loss function                :  Negative Log Likelihood Loss\n",
    "#### Optimization algorithm : Adam optimizer"
   ]
  },
  {
   "cell_type": "code",
   "execution_count": 70,
   "metadata": {},
   "outputs": [],
   "source": [
    "criterion=nn.NLLLoss()\n",
    "optimizer=optim.Adam(model.parameters(),lr=0.003)"
   ]
  },
  {
   "cell_type": "markdown",
   "metadata": {},
   "source": [
    "# Running the model"
   ]
  },
  {
   "cell_type": "code",
   "execution_count": 88,
   "metadata": {},
   "outputs": [
    {
     "name": "stdout",
     "output_type": "stream",
     "text": [
      "Epoch: 1/20 Train loss: 0.286 Test loss: 0.367 Test Accuracy: 87.570\n",
      "Epoch: 2/20 Train loss: 0.276 Test loss: 0.357 Test Accuracy: 87.570\n",
      "Epoch: 3/20 Train loss: 0.266 Test loss: 0.361 Test Accuracy: 87.291\n",
      "Epoch: 4/20 Train loss: 0.262 Test loss: 0.360 Test Accuracy: 87.828\n",
      "Epoch: 5/20 Train loss: 0.253 Test loss: 0.375 Test Accuracy: 87.102\n",
      "Epoch: 6/20 Train loss: 0.249 Test loss: 0.357 Test Accuracy: 88.227\n",
      "Epoch: 7/20 Train loss: 0.242 Test loss: 0.397 Test Accuracy: 87.002\n",
      "Epoch: 8/20 Train loss: 0.237 Test loss: 0.380 Test Accuracy: 87.759\n",
      "Epoch: 9/20 Train loss: 0.227 Test loss: 0.338 Test Accuracy: 88.545\n",
      "Epoch: 10/20 Train loss: 0.226 Test loss: 0.360 Test Accuracy: 88.137\n",
      "Epoch: 11/20 Train loss: 0.221 Test loss: 0.377 Test Accuracy: 88.455\n",
      "Epoch: 12/20 Train loss: 0.216 Test loss: 0.390 Test Accuracy: 88.306\n",
      "Epoch: 13/20 Train loss: 0.210 Test loss: 0.407 Test Accuracy: 88.436\n",
      "Epoch: 14/20 Train loss: 0.206 Test loss: 0.399 Test Accuracy: 88.863\n",
      "Epoch: 15/20 Train loss: 0.202 Test loss: 0.405 Test Accuracy: 88.137\n",
      "Epoch: 16/20 Train loss: 0.203 Test loss: 0.411 Test Accuracy: 88.545\n",
      "Epoch: 17/20 Train loss: 0.199 Test loss: 0.433 Test Accuracy: 88.067\n",
      "Epoch: 18/20 Train loss: 0.192 Test loss: 0.442 Test Accuracy: 88.565\n",
      "Epoch: 19/20 Train loss: 0.191 Test loss: 0.446 Test Accuracy: 88.475\n",
      "Epoch: 20/20 Train loss: 0.190 Test loss: 0.432 Test Accuracy: 88.625\n"
     ]
    }
   ],
   "source": [
    "epoch=20\n",
    "for e in range(epoch):\n",
    "    running_loss=0\n",
    "    for images,labels in trainloader:\n",
    "        images=images.view(images.shape[0],-1)\n",
    "        \n",
    "        optimizer.zero_grad()\n",
    "        \n",
    "        logits=model.forward(images)\n",
    "        \n",
    "        loss=criterion(logits,labels)\n",
    "        loss.backward()\n",
    "        \n",
    "        optimizer.step()\n",
    "        \n",
    "        running_loss+=loss.item()\n",
    "    else:\n",
    "        test_loss=0\n",
    "        accuracy=0\n",
    "        with no_grad():\n",
    "            for images,labels in testloader:\n",
    "                images=images.view(images.shape[0],-1)\n",
    "                test_logits=model(images)\n",
    "                test_loss+=criterion(test_logits,labels)\n",
    "                \n",
    "                ps=exp(test_loss)\n",
    "                \n",
    "                top_p,top_class=test_logits.topk(1,dim=1)\n",
    "                equals=top_class==labels.view(top_class.shape)\n",
    "                accuracy+=mean(equals.type(FloatTensor))\n",
    "#         train_losses.append(running_loss/len(trainloader))\n",
    "#         test_losses.append(running_loss/len(testloader))\n",
    "        print('Epoch: {}/{}'.format(e+1,epoch),\n",
    "             'Train loss: {:.3f}'.format(running_loss/len(trainloader)),\n",
    "             'Test loss: {:.3f}'.format(test_loss/len(testloader)),\n",
    "             'Test Accuracy: {:.3f}%'.format((accuracy/len(testloader))*100))"
   ]
  }
 ],
 "metadata": {
  "kernelspec": {
   "display_name": "Python 3",
   "language": "python",
   "name": "python3"
  },
  "language_info": {
   "codemirror_mode": {
    "name": "ipython",
    "version": 3
   },
   "file_extension": ".py",
   "mimetype": "text/x-python",
   "name": "python",
   "nbconvert_exporter": "python",
   "pygments_lexer": "ipython3",
   "version": "3.6.7"
  }
 },
 "nbformat": 4,
 "nbformat_minor": 2
}
